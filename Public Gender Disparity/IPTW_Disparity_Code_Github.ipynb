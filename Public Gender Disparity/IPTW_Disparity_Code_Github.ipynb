{
 "cells": [
  {
   "cell_type": "code",
   "execution_count": 2,
   "id": "ceb3bc46",
   "metadata": {},
   "outputs": [
    {
     "name": "stdout",
     "output_type": "stream",
     "text": [
      "Collecting causalinference\n",
      "  Downloading CausalInference-0.1.3-py3-none-any.whl.metadata (2.5 kB)\n",
      "Downloading CausalInference-0.1.3-py3-none-any.whl (51 kB)\n",
      "Installing collected packages: causalinference\n",
      "Successfully installed causalinference-0.1.3\n",
      "Note: you may need to restart the kernel to use updated packages.\n"
     ]
    }
   ],
   "source": [
    "pip install causalinference"
   ]
  },
  {
   "cell_type": "code",
   "execution_count": 3,
   "id": "7a47c52e",
   "metadata": {},
   "outputs": [],
   "source": [
    "import pandas as pd\n",
    "from causalinference import CausalModel\n",
    "from matplotlib import pyplot as plt"
   ]
  },
  {
   "cell_type": "code",
   "execution_count": 4,
   "id": "3923a16c",
   "metadata": {},
   "outputs": [],
   "source": [
    "pd.set_option('display.max_columns', None)"
   ]
  },
  {
   "cell_type": "code",
   "execution_count": 6,
   "id": "d31fd919",
   "metadata": {},
   "outputs": [
    {
     "data": {
      "text/html": [
       "<div>\n",
       "<style scoped>\n",
       "    .dataframe tbody tr th:only-of-type {\n",
       "        vertical-align: middle;\n",
       "    }\n",
       "\n",
       "    .dataframe tbody tr th {\n",
       "        vertical-align: top;\n",
       "    }\n",
       "\n",
       "    .dataframe thead th {\n",
       "        text-align: right;\n",
       "    }\n",
       "</style>\n",
       "<table border=\"1\" class=\"dataframe\">\n",
       "  <thead>\n",
       "    <tr style=\"text-align: right;\">\n",
       "      <th></th>\n",
       "      <th>employee_id</th>\n",
       "      <th>gender_binary</th>\n",
       "      <th>Cad Count</th>\n",
       "      <th>Complaints Count Sus</th>\n",
       "      <th>Complaints Count</th>\n",
       "      <th>Highest Rank</th>\n",
       "      <th>Io Report Count</th>\n",
       "      <th>Dollars Earned (Gross)</th>\n",
       "      <th>Certifications Count</th>\n",
       "      <th>Unit Count</th>\n",
       "      <th>Military Experience</th>\n",
       "      <th>Hours Worked</th>\n",
       "      <th>Max. Comp. Rate</th>\n",
       "      <th>Promotion Count</th>\n",
       "      <th>American Indian/Alaska Native</th>\n",
       "      <th>Asian</th>\n",
       "      <th>Black or African American</th>\n",
       "      <th>Hispanic or Latino</th>\n",
       "      <th>Nat Hawaiian/Oth Pac Islander</th>\n",
       "      <th>Two or More Races</th>\n",
       "      <th>Unknown</th>\n",
       "      <th>White</th>\n",
       "      <th>Last Pay Year</th>\n",
       "      <th>Year of Birth</th>\n",
       "    </tr>\n",
       "  </thead>\n",
       "  <tbody>\n",
       "    <tr>\n",
       "      <th>0</th>\n",
       "      <td>17240</td>\n",
       "      <td>0</td>\n",
       "      <td>368</td>\n",
       "      <td>0</td>\n",
       "      <td>0</td>\n",
       "      <td>10</td>\n",
       "      <td>0</td>\n",
       "      <td>1347287.04</td>\n",
       "      <td>0</td>\n",
       "      <td>2</td>\n",
       "      <td>0</td>\n",
       "      <td>21974.70</td>\n",
       "      <td>115.88</td>\n",
       "      <td>1</td>\n",
       "      <td>0</td>\n",
       "      <td>1</td>\n",
       "      <td>0</td>\n",
       "      <td>0</td>\n",
       "      <td>0</td>\n",
       "      <td>0</td>\n",
       "      <td>0</td>\n",
       "      <td>0</td>\n",
       "      <td>2021</td>\n",
       "      <td>1954</td>\n",
       "    </tr>\n",
       "    <tr>\n",
       "      <th>1</th>\n",
       "      <td>15141</td>\n",
       "      <td>0</td>\n",
       "      <td>578</td>\n",
       "      <td>2</td>\n",
       "      <td>2</td>\n",
       "      <td>11</td>\n",
       "      <td>2</td>\n",
       "      <td>1199434.84</td>\n",
       "      <td>0</td>\n",
       "      <td>2</td>\n",
       "      <td>0</td>\n",
       "      <td>18529.00</td>\n",
       "      <td>117.38</td>\n",
       "      <td>1</td>\n",
       "      <td>0</td>\n",
       "      <td>0</td>\n",
       "      <td>0</td>\n",
       "      <td>0</td>\n",
       "      <td>0</td>\n",
       "      <td>0</td>\n",
       "      <td>0</td>\n",
       "      <td>1</td>\n",
       "      <td>2021</td>\n",
       "      <td>1958</td>\n",
       "    </tr>\n",
       "    <tr>\n",
       "      <th>2</th>\n",
       "      <td>17500</td>\n",
       "      <td>1</td>\n",
       "      <td>256</td>\n",
       "      <td>10</td>\n",
       "      <td>13</td>\n",
       "      <td>6</td>\n",
       "      <td>4</td>\n",
       "      <td>1575919.38</td>\n",
       "      <td>3</td>\n",
       "      <td>4</td>\n",
       "      <td>0</td>\n",
       "      <td>26913.95</td>\n",
       "      <td>95.70</td>\n",
       "      <td>0</td>\n",
       "      <td>0</td>\n",
       "      <td>0</td>\n",
       "      <td>1</td>\n",
       "      <td>0</td>\n",
       "      <td>0</td>\n",
       "      <td>0</td>\n",
       "      <td>0</td>\n",
       "      <td>0</td>\n",
       "      <td>2024</td>\n",
       "      <td>1955</td>\n",
       "    </tr>\n",
       "    <tr>\n",
       "      <th>3</th>\n",
       "      <td>14401</td>\n",
       "      <td>1</td>\n",
       "      <td>696</td>\n",
       "      <td>8</td>\n",
       "      <td>8</td>\n",
       "      <td>4</td>\n",
       "      <td>25</td>\n",
       "      <td>813363.21</td>\n",
       "      <td>0</td>\n",
       "      <td>1</td>\n",
       "      <td>0</td>\n",
       "      <td>14243.00</td>\n",
       "      <td>98.58</td>\n",
       "      <td>0</td>\n",
       "      <td>0</td>\n",
       "      <td>0</td>\n",
       "      <td>0</td>\n",
       "      <td>0</td>\n",
       "      <td>0</td>\n",
       "      <td>0</td>\n",
       "      <td>0</td>\n",
       "      <td>1</td>\n",
       "      <td>2017</td>\n",
       "      <td>1955</td>\n",
       "    </tr>\n",
       "    <tr>\n",
       "      <th>4</th>\n",
       "      <td>15276</td>\n",
       "      <td>1</td>\n",
       "      <td>31</td>\n",
       "      <td>0</td>\n",
       "      <td>0</td>\n",
       "      <td>6</td>\n",
       "      <td>0</td>\n",
       "      <td>814710.78</td>\n",
       "      <td>0</td>\n",
       "      <td>1</td>\n",
       "      <td>0</td>\n",
       "      <td>15050.75</td>\n",
       "      <td>100.76</td>\n",
       "      <td>0</td>\n",
       "      <td>0</td>\n",
       "      <td>0</td>\n",
       "      <td>0</td>\n",
       "      <td>0</td>\n",
       "      <td>0</td>\n",
       "      <td>0</td>\n",
       "      <td>0</td>\n",
       "      <td>1</td>\n",
       "      <td>2019</td>\n",
       "      <td>1956</td>\n",
       "    </tr>\n",
       "  </tbody>\n",
       "</table>\n",
       "</div>"
      ],
      "text/plain": [
       "   employee_id  gender_binary  Cad Count  Complaints Count Sus  \\\n",
       "0        17240              0        368                     0   \n",
       "1        15141              0        578                     2   \n",
       "2        17500              1        256                    10   \n",
       "3        14401              1        696                     8   \n",
       "4        15276              1         31                     0   \n",
       "\n",
       "   Complaints Count  Highest Rank  Io Report Count  Dollars Earned (Gross)  \\\n",
       "0                 0            10                0              1347287.04   \n",
       "1                 2            11                2              1199434.84   \n",
       "2                13             6                4              1575919.38   \n",
       "3                 8             4               25               813363.21   \n",
       "4                 0             6                0               814710.78   \n",
       "\n",
       "   Certifications Count  Unit Count  Military Experience  Hours Worked  \\\n",
       "0                     0           2                    0      21974.70   \n",
       "1                     0           2                    0      18529.00   \n",
       "2                     3           4                    0      26913.95   \n",
       "3                     0           1                    0      14243.00   \n",
       "4                     0           1                    0      15050.75   \n",
       "\n",
       "   Max. Comp. Rate  Promotion Count  American Indian/Alaska Native  Asian  \\\n",
       "0           115.88                1                              0      1   \n",
       "1           117.38                1                              0      0   \n",
       "2            95.70                0                              0      0   \n",
       "3            98.58                0                              0      0   \n",
       "4           100.76                0                              0      0   \n",
       "\n",
       "   Black or African American  Hispanic or Latino  \\\n",
       "0                          0                   0   \n",
       "1                          0                   0   \n",
       "2                          1                   0   \n",
       "3                          0                   0   \n",
       "4                          0                   0   \n",
       "\n",
       "   Nat Hawaiian/Oth Pac Islander  Two or More Races  Unknown  White  \\\n",
       "0                              0                  0        0      0   \n",
       "1                              0                  0        0      1   \n",
       "2                              0                  0        0      0   \n",
       "3                              0                  0        0      1   \n",
       "4                              0                  0        0      1   \n",
       "\n",
       "   Last Pay Year  Year of Birth  \n",
       "0           2021           1954  \n",
       "1           2021           1958  \n",
       "2           2024           1955  \n",
       "3           2017           1955  \n",
       "4           2019           1956  "
      ]
     },
     "execution_count": 6,
     "metadata": {},
     "output_type": "execute_result"
    }
   ],
   "source": [
    "ci_temp = pd.read_csv('disparity_data.csv')\n",
    "ci_temp.head()"
   ]
  },
  {
   "cell_type": "code",
   "execution_count": 7,
   "id": "0cebbcc8",
   "metadata": {},
   "outputs": [
    {
     "data": {
      "image/png": "[encoded data removed]",
      "text/plain": [
       "<Figure size 640x480 with 1 Axes>"
      ]
     },
     "metadata": {},
     "output_type": "display_data"
    }
   ],
   "source": [
    "import seaborn as sns\n",
    "import statsmodels.api as sm\n",
    "import matplotlib.pyplot as plt\n",
    "\n",
    "ax = sns.scatterplot(data=ci_temp, x='Hours Worked', y='Dollars Earned (Gross)', hue='gender_binary')\n",
    "handles, labels = ax.get_legend_handles_labels()\n",
    "ax.legend(handles, ['Male', 'Female'])\n",
    "plt.ylabel('Dollars Earned')\n",
    "# Calculate LOWESS for each gender\n",
    "for gender in ci_temp['gender_binary'].unique():\n",
    "    subset = ci_temp[ci_temp['gender_binary'] == gender]\n",
    "    lowess = sm.nonparametric.lowess(subset['Dollars Earned (Gross)'], subset['Hours Worked'], frac=0.4) #40% of data per local regression\n",
    "\n",
    "    ax.plot(lowess[:, 0], lowess[:, 1])\n",
    "plt.show()"
   ]
  },
  {
   "cell_type": "markdown",
   "id": "e885744d",
   "metadata": {},
   "source": [
    "### Complaints"
   ]
  },
  {
   "cell_type": "code",
   "execution_count": 8,
   "id": "be6dadc5",
   "metadata": {},
   "outputs": [
    {
     "name": "stdout",
     "output_type": "stream",
     "text": [
      "\n",
      "Summary Statistics\n",
      "\n",
      "                      Controls (N_c=1708)         Treated (N_t=307)             \n",
      "       Variable         Mean         S.d.         Mean         S.d.     Raw-diff\n",
      "--------------------------------------------------------------------------------\n",
      "              Y        6.228        7.086        4.762        6.798       -1.466\n",
      "\n",
      "                      Controls (N_c=1708)         Treated (N_t=307)             \n",
      "       Variable         Mean         S.d.         Mean         S.d.     Nor-diff\n",
      "--------------------------------------------------------------------------------\n",
      "             X0     5711.241     5197.321     4508.176     3949.580       -0.261\n",
      "             X1   984647.022   583608.380   893654.121   541859.766       -0.162\n",
      "             X2      653.060      774.331      642.134      744.662       -0.014\n",
      "             X3        5.763        3.006        5.831        3.025        0.022\n",
      "             X4        1.852        2.125        1.619        1.910       -0.116\n",
      "             X5        3.508        1.782        3.977        2.109        0.240\n",
      "             X6        0.166        0.372        0.085        0.279       -0.246\n",
      "             X7    18535.941     9815.994    17750.399     9593.474       -0.081\n",
      "             X8       80.108       20.231       79.172       20.484       -0.046\n",
      "             X9        1.597        1.599        1.752        1.674        0.095\n",
      "            X10        0.014        0.118        0.013        0.114       -0.009\n",
      "            X11        0.077        0.267        0.042        0.202       -0.148\n",
      "            X12        0.080        0.272        0.055        0.229       -0.099\n",
      "            X13        0.068        0.252        0.052        0.223       -0.066\n",
      "            X14        0.012        0.108        0.010        0.099       -0.019\n",
      "            X15        0.046        0.209        0.075        0.264        0.123\n",
      "            X16        0.046        0.210        0.033        0.178       -0.070\n",
      "            X17        0.657        0.475        0.720        0.450        0.136\n",
      "            X18     2022.004        2.644     2021.977        2.620       -0.010\n",
      "            X19     1975.940       12.812     1976.469       12.577        0.042\n",
      "\n"
     ]
    }
   ],
   "source": [
    "#Raw difference (differences in unbalanced average)\n",
    "\n",
    "causal = CausalModel(Y = ci_temp['Complaints Count'].values,\n",
    "                     D = ci_temp['gender_binary'].values,                     \n",
    "                     X = ci_temp[['Cad Count',\n",
    "                                  'Dollars Earned (Gross)',\n",
    " 'Io Report Count', 'Highest Rank', 'Certifications Count', 'Unit Count',\n",
    " 'Military Experience', 'Hours Worked','Max. Comp. Rate',\n",
    " 'Promotion Count',\n",
    " 'American Indian/Alaska Native',\n",
    " 'Asian',\n",
    " 'Black or African American',\n",
    " 'Hispanic or Latino',\n",
    " 'Nat Hawaiian/Oth Pac Islander',\n",
    " 'Two or More Races',\n",
    " 'Unknown',\n",
    " 'White',\n",
    " 'Last Pay Year',\n",
    " 'Year of Birth']].values)\n",
    "\n",
    "print(causal.summary_stats)"
   ]
  },
  {
   "cell_type": "code",
   "execution_count": 9,
   "id": "ab38faef",
   "metadata": {
    "scrolled": true
   },
   "outputs": [
    {
     "name": "stdout",
     "output_type": "stream",
     "text": [
      "\n",
      "Estimated Parameters of Propensity Score\n",
      "\n",
      "                    Coef.       S.e.          z      P>|z|      [95% Conf. int.]\n",
      "--------------------------------------------------------------------------------\n",
      "     Intercept   -109.022        nan        nan        nan        nan        nan\n",
      "            X0     -0.000      0.000     -5.859      0.000     -0.000     -0.000\n",
      "            X1     -0.000      0.000     -3.773      0.000     -0.000     -0.000\n",
      "            X2      0.001      0.000      4.523      0.000      0.000      0.001\n",
      "            X3      0.046      0.038      1.191      0.234     -0.029      0.121\n",
      "            X4     -0.019      0.045     -0.426      0.670     -0.108      0.069\n",
      "            X5      0.242      0.044      5.529      0.000      0.156      0.328\n",
      "            X6     -0.962      0.224     -4.295      0.000     -1.401     -0.523\n",
      "            X7      0.000      0.000      2.927      0.003      0.000      0.000\n",
      "            X8      0.002      0.007      0.241      0.809     -0.011      0.014\n",
      "            X9     -0.034      0.062     -0.549      0.583     -0.156      0.088\n",
      "           X10    -13.565        nan        nan        nan        nan        nan\n",
      "           X11    -14.087        nan        nan        nan        nan        nan\n",
      "           X12    -13.897        nan        nan        nan        nan        nan\n",
      "           X13    -13.755        nan        nan        nan        nan        nan\n",
      "           X14    -13.655        nan        nan        nan        nan        nan\n",
      "           X15    -13.005        nan        nan        nan        nan        nan\n",
      "           X16    -13.724        nan        nan        nan        nan        nan\n",
      "           X17    -13.334        nan        nan        nan        nan        nan\n",
      "           X18      0.062      0.042      1.478      0.139     -0.020      0.145\n",
      "           X19     -0.003      0.009     -0.277      0.782     -0.020      0.015\n",
      "\n"
     ]
    },
    {
     "name": "stderr",
     "output_type": "stream",
     "text": [
      "/home/ec2-user/anaconda3/envs/python3/lib/python3.10/site-packages/causalinference/core/propensity.py:173: RuntimeWarning: invalid value encountered in sqrt\n",
      "  return np.sqrt(np.diag(np.linalg.inv(H)))\n"
     ]
    }
   ],
   "source": [
    "causal.est_propensity()\n",
    "print(causal.propensity)"
   ]
  },
  {
   "cell_type": "code",
   "execution_count": 10,
   "id": "bdd7a9f0",
   "metadata": {},
   "outputs": [
    {
     "name": "stdout",
     "output_type": "stream",
     "text": [
      "\n",
      "Treatment Effect Estimates: Weighting\n",
      "\n",
      "                     Est.       S.e.          z      P>|z|      [95% Conf. int.]\n",
      "--------------------------------------------------------------------------------\n",
      "           ATE     -0.530      0.575     -0.923      0.356     -1.657      0.596\n",
      "\n"
     ]
    },
    {
     "name": "stderr",
     "output_type": "stream",
     "text": [
      "/home/ec2-user/anaconda3/envs/python3/lib/python3.10/site-packages/causalinference/estimators/weighting.py:23: FutureWarning: `rcond` parameter will change to the default of machine precision times ``max(M, N)`` where M and N are the input matrix dimensions.\n",
      "To use the future default and silence this warning we advise to pass `rcond=None`, to keep using the old, explicitly pass `rcond=-1`.\n",
      "  wlscoef = np.linalg.lstsq(Z_w, Y_w)[0]\n"
     ]
    }
   ],
   "source": [
    "causal.est_via_weighting()\n",
    "print(causal.estimates)"
   ]
  },
  {
   "cell_type": "code",
   "execution_count": 11,
   "id": "7107f634",
   "metadata": {},
   "outputs": [],
   "source": [
    "#propensity scores:\n",
    "weights = causal.propensity['fitted']"
   ]
  },
  {
   "cell_type": "code",
   "execution_count": 12,
   "id": "14911a3f",
   "metadata": {},
   "outputs": [],
   "source": [
    "#add weights to df\n",
    "ci_temp['weights'] = weights "
   ]
  },
  {
   "cell_type": "code",
   "execution_count": 13,
   "id": "9fd8c134",
   "metadata": {},
   "outputs": [
    {
     "data": {
      "text/plain": [
       "0.06430489882918944"
      ]
     },
     "execution_count": 13,
     "metadata": {},
     "output_type": "execute_result"
    }
   ],
   "source": [
    "causal.trim_s()\n",
    "causal.cutoff"
   ]
  },
  {
   "cell_type": "code",
   "execution_count": 14,
   "id": "a53224d6",
   "metadata": {},
   "outputs": [
    {
     "name": "stdout",
     "output_type": "stream",
     "text": [
      "\n",
      "Summary Statistics\n",
      "\n",
      "                      Controls (N_c=1403)         Treated (N_t=294)             \n",
      "       Variable         Mean         S.d.         Mean         S.d.     Raw-diff\n",
      "--------------------------------------------------------------------------------\n",
      "              Y        5.355        6.373        4.793        6.879       -0.562\n",
      "\n",
      "                      Controls (N_c=1403)         Treated (N_t=294)             \n",
      "       Variable         Mean         S.d.         Mean         S.d.     Nor-diff\n",
      "--------------------------------------------------------------------------------\n",
      "             X0     4665.070     4247.372     4400.194     3806.886       -0.066\n",
      "             X1   905313.330   557788.198   872232.144   521555.788       -0.061\n",
      "             X2      577.390      752.568      637.592      750.357        0.080\n",
      "             X3        5.763        2.954        5.735        2.828       -0.010\n",
      "             X4        1.634        2.057        1.595        1.899       -0.020\n",
      "             X5        3.611        1.842        4.058        2.097        0.227\n",
      "             X6        0.120        0.325        0.078        0.269       -0.139\n",
      "             X7    17472.800     9914.455    17613.631     9606.527        0.014\n",
      "             X8       79.462       20.496       78.702       19.995       -0.038\n",
      "             X9        1.651        1.595        1.776        1.680        0.076\n",
      "            X10        0.015        0.121        0.014        0.116       -0.011\n",
      "            X11        0.053        0.224        0.031        0.173       -0.111\n",
      "            X12        0.068        0.253        0.054        0.227       -0.058\n",
      "            X13        0.065        0.246        0.054        0.227       -0.044\n",
      "            X14        0.011        0.103        0.010        0.101       -0.005\n",
      "            X15        0.054        0.226        0.075        0.264        0.084\n",
      "            X16        0.040        0.196        0.031        0.173       -0.050\n",
      "            X17        0.694        0.461        0.731        0.444        0.082\n",
      "            X18     2021.789        2.721     2021.969        2.629        0.067\n",
      "            X19     1976.082       13.246     1976.534       12.691        0.035\n",
      "\n"
     ]
    }
   ],
   "source": [
    "print(causal.summary_stats)"
   ]
  },
  {
   "cell_type": "code",
   "execution_count": 15,
   "id": "1d02c332",
   "metadata": {},
   "outputs": [
    {
     "name": "stdout",
     "output_type": "stream",
     "text": [
      "\n",
      "Treatment Effect Estimates: Weighting\n",
      "\n",
      "                     Est.       S.e.          z      P>|z|      [95% Conf. int.]\n",
      "--------------------------------------------------------------------------------\n",
      "           ATE     -0.213      0.525     -0.405      0.685     -1.241      0.816\n",
      "\n"
     ]
    },
    {
     "name": "stderr",
     "output_type": "stream",
     "text": [
      "/home/ec2-user/anaconda3/envs/python3/lib/python3.10/site-packages/causalinference/estimators/weighting.py:23: FutureWarning: `rcond` parameter will change to the default of machine precision times ``max(M, N)`` where M and N are the input matrix dimensions.\n",
      "To use the future default and silence this warning we advise to pass `rcond=None`, to keep using the old, explicitly pass `rcond=-1`.\n",
      "  wlscoef = np.linalg.lstsq(Z_w, Y_w)[0]\n"
     ]
    }
   ],
   "source": [
    "causal.est_via_weighting()\n",
    "print(causal.estimates)"
   ]
  },
  {
   "cell_type": "markdown",
   "id": "0ea16daa",
   "metadata": {},
   "source": [
    "### Dollars"
   ]
  },
  {
   "cell_type": "code",
   "execution_count": 16,
   "id": "4e4b34f2",
   "metadata": {},
   "outputs": [
    {
     "name": "stdout",
     "output_type": "stream",
     "text": [
      "\n",
      "Summary Statistics\n",
      "\n",
      "                      Controls (N_c=1708)         Treated (N_t=307)             \n",
      "       Variable         Mean         S.d.         Mean         S.d.     Raw-diff\n",
      "--------------------------------------------------------------------------------\n",
      "              Y   984647.022   583608.380   893654.121   541859.766   -90992.901\n",
      "\n",
      "                      Controls (N_c=1708)         Treated (N_t=307)             \n",
      "       Variable         Mean         S.d.         Mean         S.d.     Nor-diff\n",
      "--------------------------------------------------------------------------------\n",
      "             X0     5711.241     5197.321     4508.176     3949.580       -0.261\n",
      "             X1        3.192        3.740        2.736        5.582       -0.096\n",
      "             X2      653.060      774.331      642.134      744.662       -0.014\n",
      "             X3        5.763        3.006        5.831        3.025        0.022\n",
      "             X4        1.852        2.125        1.619        1.910       -0.116\n",
      "             X5        3.508        1.782        3.977        2.109        0.240\n",
      "             X6        0.166        0.372        0.085        0.279       -0.246\n",
      "             X7    18535.941     9815.994    17750.399     9593.474       -0.081\n",
      "             X8       80.108       20.231       79.172       20.484       -0.046\n",
      "             X9        1.597        1.599        1.752        1.674        0.095\n",
      "            X10        0.014        0.118        0.013        0.114       -0.009\n",
      "            X11        0.077        0.267        0.042        0.202       -0.148\n",
      "            X12        0.080        0.272        0.055        0.229       -0.099\n",
      "            X13        0.068        0.252        0.052        0.223       -0.066\n",
      "            X14        0.012        0.108        0.010        0.099       -0.019\n",
      "            X15        0.046        0.209        0.075        0.264        0.123\n",
      "            X16        0.046        0.210        0.033        0.178       -0.070\n",
      "            X17        0.657        0.475        0.720        0.450        0.136\n",
      "            X18     2022.004        2.644     2021.977        2.620       -0.010\n",
      "            X19     1975.940       12.812     1976.469       12.577        0.042\n",
      "\n"
     ]
    }
   ],
   "source": [
    "causal_d = CausalModel(Y = ci_temp['Dollars Earned (Gross)'].values,\n",
    "                     D = ci_temp['gender_binary'].values,                     \n",
    "                     X = ci_temp[['Cad Count',\n",
    "                                  'Complaints Count Sus',\n",
    " 'Io Report Count', 'Highest Rank', 'Certifications Count', 'Unit Count',\n",
    " 'Military Experience', 'Hours Worked','Max. Comp. Rate',\n",
    " 'Promotion Count',\n",
    " 'American Indian/Alaska Native',\n",
    " 'Asian',\n",
    " 'Black or African American',\n",
    " 'Hispanic or Latino',\n",
    " 'Nat Hawaiian/Oth Pac Islander',\n",
    " 'Two or More Races',\n",
    " 'Unknown',\n",
    " 'White',\n",
    " 'Last Pay Year',\n",
    " 'Year of Birth']].values)\n",
    "\n",
    "print(causal_d.summary_stats)"
   ]
  },
  {
   "cell_type": "code",
   "execution_count": 17,
   "id": "78ac7842",
   "metadata": {},
   "outputs": [
    {
     "name": "stdout",
     "output_type": "stream",
     "text": [
      "\n",
      "Estimated Parameters of Propensity Score\n",
      "\n",
      "                    Coef.       S.e.          z      P>|z|      [95% Conf. int.]\n",
      "--------------------------------------------------------------------------------\n",
      "     Intercept    -16.973        nan        nan        nan        nan        nan\n",
      "            X0     -0.000      0.000     -6.089      0.000     -0.000     -0.000\n",
      "            X1      0.003      0.019      0.144      0.886     -0.035      0.041\n",
      "            X2      0.001      0.000      4.840      0.000      0.000      0.001\n",
      "            X3     -0.010      0.035     -0.275      0.783     -0.079      0.060\n",
      "            X4     -0.037      0.045     -0.816      0.415     -0.125      0.051\n",
      "            X5      0.251      0.043      5.784      0.000      0.166      0.336\n",
      "            X6     -0.946      0.224     -4.230      0.000     -1.385     -0.508\n",
      "            X7     -0.000      0.000     -0.278      0.781     -0.000      0.000\n",
      "            X8     -0.005      0.006     -0.763      0.445     -0.017      0.008\n",
      "            X9      0.006      0.061      0.091      0.928     -0.114      0.125\n",
      "           X10     -2.066        nan        nan        nan        nan        nan\n",
      "           X11     -2.597        nan        nan        nan        nan        nan\n",
      "           X12     -2.376        nan        nan        nan        nan        nan\n",
      "           X13     -2.243        nan        nan        nan        nan        nan\n",
      "           X14     -2.194        nan        nan        nan        nan        nan\n",
      "           X15     -1.474        nan        nan        nan        nan        nan\n",
      "           X16     -2.217        nan        nan        nan        nan        nan\n",
      "           X17     -1.807        nan        nan        nan        nan        nan\n",
      "           X18      0.006      0.040      0.163      0.871     -0.072      0.085\n",
      "           X19      0.002      0.009      0.238      0.812     -0.016      0.020\n",
      "\n"
     ]
    },
    {
     "name": "stderr",
     "output_type": "stream",
     "text": [
      "/home/ec2-user/anaconda3/envs/python3/lib/python3.10/site-packages/causalinference/core/propensity.py:173: RuntimeWarning: invalid value encountered in sqrt\n",
      "  return np.sqrt(np.diag(np.linalg.inv(H)))\n"
     ]
    }
   ],
   "source": [
    "causal_d.est_propensity()\n",
    "print(causal_d.propensity)"
   ]
  },
  {
   "cell_type": "code",
   "execution_count": 18,
   "id": "10c8ecee",
   "metadata": {},
   "outputs": [
    {
     "name": "stdout",
     "output_type": "stream",
     "text": [
      "\n",
      "Treatment Effect Estimates: Weighting\n",
      "\n",
      "                     Est.       S.e.          z      P>|z|      [95% Conf. int.]\n",
      "--------------------------------------------------------------------------------\n",
      "           ATE -36391.815  11858.989     -3.069      0.002 -59635.434 -13148.196\n",
      "\n"
     ]
    },
    {
     "name": "stderr",
     "output_type": "stream",
     "text": [
      "/home/ec2-user/anaconda3/envs/python3/lib/python3.10/site-packages/causalinference/estimators/weighting.py:23: FutureWarning: `rcond` parameter will change to the default of machine precision times ``max(M, N)`` where M and N are the input matrix dimensions.\n",
      "To use the future default and silence this warning we advise to pass `rcond=None`, to keep using the old, explicitly pass `rcond=-1`.\n",
      "  wlscoef = np.linalg.lstsq(Z_w, Y_w)[0]\n"
     ]
    }
   ],
   "source": [
    "causal_d.est_via_weighting()\n",
    "print(causal_d.estimates)"
   ]
  },
  {
   "cell_type": "code",
   "execution_count": 19,
   "id": "17bba003",
   "metadata": {},
   "outputs": [
    {
     "data": {
      "text/plain": [
       "0.06303491926214588"
      ]
     },
     "execution_count": 19,
     "metadata": {},
     "output_type": "execute_result"
    }
   ],
   "source": [
    "#propensity scores:\n",
    "weights_d = causal_d.propensity['fitted']\n",
    "ci_temp['weights_d'] = weights_d \n",
    "causal_d.trim_s()\n",
    "causal_d.cutoff"
   ]
  },
  {
   "cell_type": "code",
   "execution_count": 20,
   "id": "0c4517e0",
   "metadata": {},
   "outputs": [
    {
     "name": "stdout",
     "output_type": "stream",
     "text": [
      "\n",
      "Treatment Effect Estimates: Weighting\n",
      "\n",
      "                     Est.       S.e.          z      P>|z|      [95% Conf. int.]\n",
      "--------------------------------------------------------------------------------\n",
      "           ATE -30387.356  11476.655     -2.648      0.008 -52881.599  -7893.112\n",
      "\n"
     ]
    },
    {
     "name": "stderr",
     "output_type": "stream",
     "text": [
      "/home/ec2-user/anaconda3/envs/python3/lib/python3.10/site-packages/causalinference/estimators/weighting.py:23: FutureWarning: `rcond` parameter will change to the default of machine precision times ``max(M, N)`` where M and N are the input matrix dimensions.\n",
      "To use the future default and silence this warning we advise to pass `rcond=None`, to keep using the old, explicitly pass `rcond=-1`.\n",
      "  wlscoef = np.linalg.lstsq(Z_w, Y_w)[0]\n"
     ]
    }
   ],
   "source": [
    "causal_d.est_via_weighting()\n",
    "print(causal_d.estimates)"
   ]
  },
  {
   "cell_type": "markdown",
   "id": "ab972548",
   "metadata": {},
   "source": [
    "### Promotions Count"
   ]
  },
  {
   "cell_type": "code",
   "execution_count": 21,
   "id": "3ed295b7",
   "metadata": {},
   "outputs": [
    {
     "name": "stdout",
     "output_type": "stream",
     "text": [
      "\n",
      "Summary Statistics\n",
      "\n",
      "                      Controls (N_c=1708)         Treated (N_t=307)             \n",
      "       Variable         Mean         S.d.         Mean         S.d.     Raw-diff\n",
      "--------------------------------------------------------------------------------\n",
      "              Y        1.597        1.599        1.752        1.674        0.155\n",
      "\n",
      "                      Controls (N_c=1708)         Treated (N_t=307)             \n",
      "       Variable         Mean         S.d.         Mean         S.d.     Nor-diff\n",
      "--------------------------------------------------------------------------------\n",
      "             X0     5711.241     5197.321     4508.176     3949.580       -0.261\n",
      "             X1        3.192        3.740        2.736        5.582       -0.096\n",
      "             X2      653.060      774.331      642.134      744.662       -0.014\n",
      "             X3        5.763        3.006        5.831        3.025        0.022\n",
      "             X4        1.852        2.125        1.619        1.910       -0.116\n",
      "             X5        3.508        1.782        3.977        2.109        0.240\n",
      "             X6        0.166        0.372        0.085        0.279       -0.246\n",
      "             X7    18535.941     9815.994    17750.399     9593.474       -0.081\n",
      "             X8       80.108       20.231       79.172       20.484       -0.046\n",
      "             X9   984647.022   583608.380   893654.121   541859.766       -0.162\n",
      "            X10        0.014        0.118        0.013        0.114       -0.009\n",
      "            X11        0.077        0.267        0.042        0.202       -0.148\n",
      "            X12        0.080        0.272        0.055        0.229       -0.099\n",
      "            X13        0.068        0.252        0.052        0.223       -0.066\n",
      "            X14        0.012        0.108        0.010        0.099       -0.019\n",
      "            X15        0.046        0.209        0.075        0.264        0.123\n",
      "            X16        0.046        0.210        0.033        0.178       -0.070\n",
      "            X17        0.657        0.475        0.720        0.450        0.136\n",
      "            X18     2022.004        2.644     2021.977        2.620       -0.010\n",
      "            X19     1975.940       12.812     1976.469       12.577        0.042\n",
      "\n"
     ]
    }
   ],
   "source": [
    "causal_p = CausalModel(Y = ci_temp['Promotion Count'].values,\n",
    "                     D = ci_temp['gender_binary'].values,                     \n",
    "                     X = ci_temp[['Cad Count',\n",
    "                                  'Complaints Count Sus',\n",
    " 'Io Report Count', 'Highest Rank', 'Certifications Count', 'Unit Count',\n",
    " 'Military Experience', 'Hours Worked','Max. Comp. Rate',\n",
    " 'Dollars Earned (Gross)',\n",
    " 'American Indian/Alaska Native',\n",
    " 'Asian',\n",
    " 'Black or African American',\n",
    " 'Hispanic or Latino',\n",
    " 'Nat Hawaiian/Oth Pac Islander',\n",
    " 'Two or More Races',\n",
    " 'Unknown',\n",
    " 'White',\n",
    " 'Last Pay Year',\n",
    " 'Year of Birth']].values)\n",
    "\n",
    "print(causal_p.summary_stats)"
   ]
  },
  {
   "cell_type": "code",
   "execution_count": 22,
   "id": "d16c9c21",
   "metadata": {},
   "outputs": [
    {
     "name": "stdout",
     "output_type": "stream",
     "text": [
      "\n",
      "Estimated Parameters of Propensity Score\n",
      "\n",
      "                    Coef.       S.e.          z      P>|z|      [95% Conf. int.]\n",
      "--------------------------------------------------------------------------------\n",
      "     Intercept   -102.9955597747.273     -0.000      1.000-10971687.65110971481.660\n",
      "            X0     -0.000      0.000     -5.682      0.000     -0.000     -0.000\n",
      "            X1      0.006      0.019      0.320      0.749     -0.031      0.043\n",
      "            X2      0.001      0.000      4.533      0.000      0.000      0.001\n",
      "            X3      0.034      0.033      1.051      0.293     -0.030      0.099\n",
      "            X4     -0.023      0.045     -0.519      0.604     -0.111      0.064\n",
      "            X5      0.234      0.042      5.577      0.000      0.152      0.316\n",
      "            X6     -0.970      0.224     -4.336      0.000     -1.409     -0.532\n",
      "            X7      0.000      0.000      2.902      0.004      0.000      0.000\n",
      "            X8      0.002      0.006      0.363      0.716     -0.010      0.015\n",
      "            X9     -0.000      0.000     -3.742      0.000     -0.000     -0.000\n",
      "           X10    -12.8075597747.273     -0.000      1.000-10971597.46310971571.849\n",
      "           X11    -13.3345597747.273     -0.000      1.000-10971597.99010971571.322\n",
      "           X12    -13.1505597747.273     -0.000      1.000-10971597.80610971571.505\n",
      "           X13    -13.0085597747.273     -0.000      1.000-10971597.66410971571.648\n",
      "           X14    -12.8945597747.273     -0.000      1.000-10971597.55010971571.761\n",
      "           X15    -12.2585597747.273     -0.000      1.000-10971596.91410971572.397\n",
      "           X16    -12.9645597747.273     -0.000      1.000-10971597.62010971571.692\n",
      "           X17    -12.5795597747.273     -0.000      1.000-10971597.23510971572.076\n",
      "           X18      0.060      0.042      1.433      0.152     -0.022      0.142\n",
      "           X19     -0.004      0.009     -0.412      0.681     -0.021      0.014\n",
      "\n"
     ]
    }
   ],
   "source": [
    "causal_p.est_propensity()\n",
    "print(causal_p.propensity)"
   ]
  },
  {
   "cell_type": "code",
   "execution_count": 23,
   "id": "b1be848d",
   "metadata": {},
   "outputs": [
    {
     "name": "stdout",
     "output_type": "stream",
     "text": [
      "\n",
      "Treatment Effect Estimates: Weighting\n",
      "\n",
      "                     Est.       S.e.          z      P>|z|      [95% Conf. int.]\n",
      "--------------------------------------------------------------------------------\n",
      "           ATE      0.004      0.077      0.048      0.962     -0.147      0.155\n",
      "\n"
     ]
    },
    {
     "name": "stderr",
     "output_type": "stream",
     "text": [
      "/home/ec2-user/anaconda3/envs/python3/lib/python3.10/site-packages/causalinference/estimators/weighting.py:23: FutureWarning: `rcond` parameter will change to the default of machine precision times ``max(M, N)`` where M and N are the input matrix dimensions.\n",
      "To use the future default and silence this warning we advise to pass `rcond=None`, to keep using the old, explicitly pass `rcond=-1`.\n",
      "  wlscoef = np.linalg.lstsq(Z_w, Y_w)[0]\n"
     ]
    }
   ],
   "source": [
    "causal_p.est_via_weighting()\n",
    "print(causal_p.estimates)"
   ]
  },
  {
   "cell_type": "code",
   "execution_count": 24,
   "id": "e71ed557",
   "metadata": {},
   "outputs": [
    {
     "data": {
      "text/plain": [
       "0.06455988036826688"
      ]
     },
     "execution_count": 24,
     "metadata": {},
     "output_type": "execute_result"
    }
   ],
   "source": [
    "#propensity scores:\n",
    "weights_p = causal_p.propensity['fitted']\n",
    "ci_temp['weights_p'] = weights_p\n",
    "causal_p.trim_s()\n",
    "causal_p.cutoff"
   ]
  },
  {
   "cell_type": "code",
   "execution_count": 25,
   "id": "4b59f22b",
   "metadata": {},
   "outputs": [
    {
     "name": "stdout",
     "output_type": "stream",
     "text": [
      "\n",
      "Treatment Effect Estimates: Weighting\n",
      "\n",
      "                     Est.       S.e.          z      P>|z|      [95% Conf. int.]\n",
      "--------------------------------------------------------------------------------\n",
      "           ATE     -0.033      0.070     -0.471      0.638     -0.170      0.104\n",
      "\n"
     ]
    },
    {
     "name": "stderr",
     "output_type": "stream",
     "text": [
      "/home/ec2-user/anaconda3/envs/python3/lib/python3.10/site-packages/causalinference/estimators/weighting.py:23: FutureWarning: `rcond` parameter will change to the default of machine precision times ``max(M, N)`` where M and N are the input matrix dimensions.\n",
      "To use the future default and silence this warning we advise to pass `rcond=None`, to keep using the old, explicitly pass `rcond=-1`.\n",
      "  wlscoef = np.linalg.lstsq(Z_w, Y_w)[0]\n"
     ]
    }
   ],
   "source": [
    "causal_p.est_via_weighting()\n",
    "print(causal_p.estimates)"
   ]
  },
  {
   "cell_type": "markdown",
   "id": "0085f3c5",
   "metadata": {},
   "source": [
    "### Highest Rank"
   ]
  },
  {
   "cell_type": "code",
   "execution_count": 26,
   "id": "fa85e871",
   "metadata": {},
   "outputs": [
    {
     "name": "stdout",
     "output_type": "stream",
     "text": [
      "\n",
      "Summary Statistics\n",
      "\n",
      "                      Controls (N_c=1708)         Treated (N_t=307)             \n",
      "       Variable         Mean         S.d.         Mean         S.d.     Raw-diff\n",
      "--------------------------------------------------------------------------------\n",
      "              Y        5.763        3.006        5.831        3.025        0.068\n",
      "\n",
      "                      Controls (N_c=1708)         Treated (N_t=307)             \n",
      "       Variable         Mean         S.d.         Mean         S.d.     Nor-diff\n",
      "--------------------------------------------------------------------------------\n",
      "             X0     5711.241     5197.321     4508.176     3949.580       -0.261\n",
      "             X1        3.192        3.740        2.736        5.582       -0.096\n",
      "             X2      653.060      774.331      642.134      744.662       -0.014\n",
      "             X3        1.597        1.599        1.752        1.674        0.095\n",
      "             X4        1.852        2.125        1.619        1.910       -0.116\n",
      "             X5        3.508        1.782        3.977        2.109        0.240\n",
      "             X6        0.166        0.372        0.085        0.279       -0.246\n",
      "             X7    18535.941     9815.994    17750.399     9593.474       -0.081\n",
      "             X8       80.108       20.231       79.172       20.484       -0.046\n",
      "             X9   984647.022   583608.380   893654.121   541859.766       -0.162\n",
      "            X10        0.014        0.118        0.013        0.114       -0.009\n",
      "            X11        0.077        0.267        0.042        0.202       -0.148\n",
      "            X12        0.080        0.272        0.055        0.229       -0.099\n",
      "            X13        0.068        0.252        0.052        0.223       -0.066\n",
      "            X14        0.012        0.108        0.010        0.099       -0.019\n",
      "            X15        0.046        0.209        0.075        0.264        0.123\n",
      "            X16        0.046        0.210        0.033        0.178       -0.070\n",
      "            X17        0.657        0.475        0.720        0.450        0.136\n",
      "            X18     2022.004        2.644     2021.977        2.620       -0.010\n",
      "            X19     1975.940       12.812     1976.469       12.577        0.042\n",
      "\n"
     ]
    }
   ],
   "source": [
    "causal_r = CausalModel(Y = ci_temp['Highest Rank'].values,\n",
    "                     D = ci_temp['gender_binary'].values,                     \n",
    "                     X = ci_temp[['Cad Count',\n",
    "                                  'Complaints Count Sus',\n",
    " 'Io Report Count', 'Promotion Count', 'Certifications Count', 'Unit Count',\n",
    " 'Military Experience', 'Hours Worked','Max. Comp. Rate',\n",
    " 'Dollars Earned (Gross)',\n",
    " 'American Indian/Alaska Native',\n",
    " 'Asian',\n",
    " 'Black or African American',\n",
    " 'Hispanic or Latino',\n",
    " 'Nat Hawaiian/Oth Pac Islander',\n",
    " 'Two or More Races',\n",
    " 'Unknown',\n",
    " 'White',\n",
    " 'Last Pay Year',\n",
    " 'Year of Birth']].values)\n",
    "\n",
    "print(causal_r.summary_stats)"
   ]
  },
  {
   "cell_type": "code",
   "execution_count": 27,
   "id": "10a7a40e",
   "metadata": {},
   "outputs": [
    {
     "name": "stdout",
     "output_type": "stream",
     "text": [
      "\n",
      "Estimated Parameters of Propensity Score\n",
      "\n",
      "                    Coef.       S.e.          z      P>|z|      [95% Conf. int.]\n",
      "--------------------------------------------------------------------------------\n",
      "     Intercept    -96.576        nan        nan        nan        nan        nan\n",
      "            X0     -0.000      0.000     -5.842      0.000     -0.000     -0.000\n",
      "            X1      0.006      0.019      0.333      0.739     -0.031      0.043\n",
      "            X2      0.001      0.000      4.499      0.000      0.000      0.001\n",
      "            X3      0.004      0.053      0.074      0.941     -0.100      0.108\n",
      "            X4     -0.024      0.045     -0.526      0.599     -0.112      0.065\n",
      "            X5      0.242      0.044      5.500      0.000      0.156      0.328\n",
      "            X6     -0.969      0.224     -4.326      0.000     -1.408     -0.530\n",
      "            X7      0.000      0.000      2.706      0.007      0.000      0.000\n",
      "            X8      0.005      0.006      0.750      0.453     -0.007      0.016\n",
      "            X9     -0.000      0.000     -3.571      0.000     -0.000     -0.000\n",
      "           X10    -11.990        nan        nan        nan        nan        nan\n",
      "           X11    -12.535        nan        nan        nan        nan        nan\n",
      "           X12    -12.353        nan        nan        nan        nan        nan\n",
      "           X13    -12.204        nan        nan        nan        nan        nan\n",
      "           X14    -12.095        nan        nan        nan        nan        nan\n",
      "           X15    -11.456        nan        nan        nan        nan        nan\n",
      "           X16    -12.166        nan        nan        nan        nan        nan\n",
      "           X17    -11.775        nan        nan        nan        nan        nan\n",
      "           X18      0.056      0.042      1.335      0.182     -0.026      0.138\n",
      "           X19     -0.003      0.009     -0.343      0.731     -0.021      0.015\n",
      "\n"
     ]
    },
    {
     "name": "stderr",
     "output_type": "stream",
     "text": [
      "/home/ec2-user/anaconda3/envs/python3/lib/python3.10/site-packages/causalinference/core/propensity.py:173: RuntimeWarning: invalid value encountered in sqrt\n",
      "  return np.sqrt(np.diag(np.linalg.inv(H)))\n"
     ]
    }
   ],
   "source": [
    "causal_r.est_propensity()\n",
    "print(causal_r.propensity)"
   ]
  },
  {
   "cell_type": "code",
   "execution_count": 28,
   "id": "70feb416",
   "metadata": {},
   "outputs": [
    {
     "name": "stdout",
     "output_type": "stream",
     "text": [
      "\n",
      "Treatment Effect Estimates: Weighting\n",
      "\n",
      "                     Est.       S.e.          z      P>|z|      [95% Conf. int.]\n",
      "--------------------------------------------------------------------------------\n",
      "           ATE      0.146      0.124      1.185      0.236     -0.096      0.389\n",
      "\n"
     ]
    },
    {
     "name": "stderr",
     "output_type": "stream",
     "text": [
      "/home/ec2-user/anaconda3/envs/python3/lib/python3.10/site-packages/causalinference/estimators/weighting.py:23: FutureWarning: `rcond` parameter will change to the default of machine precision times ``max(M, N)`` where M and N are the input matrix dimensions.\n",
      "To use the future default and silence this warning we advise to pass `rcond=None`, to keep using the old, explicitly pass `rcond=-1`.\n",
      "  wlscoef = np.linalg.lstsq(Z_w, Y_w)[0]\n"
     ]
    }
   ],
   "source": [
    "causal_r.est_via_weighting()\n",
    "print(causal_r.estimates)"
   ]
  },
  {
   "cell_type": "code",
   "execution_count": 29,
   "id": "cd80bfe6",
   "metadata": {},
   "outputs": [
    {
     "data": {
      "text/plain": [
       "0.06433178865155709"
      ]
     },
     "execution_count": 29,
     "metadata": {},
     "output_type": "execute_result"
    }
   ],
   "source": [
    "#propensity scores:\n",
    "weights_r = causal_r.propensity['fitted']\n",
    "ci_temp['weights_r'] = weights_r\n",
    "causal_r.trim_s()\n",
    "causal_r.cutoff"
   ]
  },
  {
   "cell_type": "code",
   "execution_count": 30,
   "id": "81405860",
   "metadata": {},
   "outputs": [
    {
     "name": "stdout",
     "output_type": "stream",
     "text": [
      "\n",
      "Treatment Effect Estimates: Weighting\n",
      "\n",
      "                     Est.       S.e.          z      P>|z|      [95% Conf. int.]\n",
      "--------------------------------------------------------------------------------\n",
      "           ATE      0.154      0.126      1.219      0.223     -0.093      0.401\n",
      "\n"
     ]
    },
    {
     "name": "stderr",
     "output_type": "stream",
     "text": [
      "/home/ec2-user/anaconda3/envs/python3/lib/python3.10/site-packages/causalinference/estimators/weighting.py:23: FutureWarning: `rcond` parameter will change to the default of machine precision times ``max(M, N)`` where M and N are the input matrix dimensions.\n",
      "To use the future default and silence this warning we advise to pass `rcond=None`, to keep using the old, explicitly pass `rcond=-1`.\n",
      "  wlscoef = np.linalg.lstsq(Z_w, Y_w)[0]\n"
     ]
    }
   ],
   "source": [
    "causal_r.est_via_weighting()\n",
    "print(causal_r.estimates)"
   ]
  }
 ],
 "metadata": {
  "kernelspec": {
   "display_name": "conda_python3",
   "language": "python",
   "name": "conda_python3"
  },
  "language_info": {
   "codemirror_mode": {
    "name": "ipython",
    "version": 3
   },
   "file_extension": ".py",
   "mimetype": "text/x-python",
   "name": "python",
   "nbconvert_exporter": "python",
   "pygments_lexer": "ipython3",
   "version": "3.10.15"
  }
 },
 "nbformat": 4,
 "nbformat_minor": 5
}
