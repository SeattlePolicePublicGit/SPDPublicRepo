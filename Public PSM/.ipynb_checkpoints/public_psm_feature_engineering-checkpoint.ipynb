{
 "cells": [
  {
   "cell_type": "markdown",
   "id": "81b783d1",
   "metadata": {},
   "source": [
    "This file uses imported functions from the public_psm_commonfunctions file. The functions file contains the **weapon_conversion_ key** as well as the following functions: \n",
    "- **process_weapon**\n",
    "- **watch_from_squad_desc**\n",
    "- **generate_features**\n",
    "- **get_rolling_count**\n",
    "\n",
    "The code uses the following packages: \n",
    "- pandas\n",
    "- numpy\n",
    "- datetime"
   ]
  },
  {
   "cell_type": "code",
   "execution_count": null,
   "id": "43621f5e",
   "metadata": {},
   "outputs": [],
   "source": [
    "# Import packages/functions\n",
    "from public_psm_commonfunctions import weapon_conversion_key, process_weapon, \\\n",
    "     watch_from_squad_desc, generate_features\n",
    "import pandas as pd\n",
    "import numpy as np\n",
    "from datetime import datetime"
   ]
  },
  {
   "cell_type": "markdown",
   "id": "38377635",
   "metadata": {},
   "source": [
    "The formatting code allows for easier comprehension of the dataframes."
   ]
  },
  {
   "cell_type": "code",
   "execution_count": null,
   "id": "4bef099e",
   "metadata": {},
   "outputs": [],
   "source": [
    "# formatting\n",
    "pd.set_option(\"display.max_columns\", None)\n",
    "pd.set_option('display.float_format', '{:.2f}'.format)"
   ]
  },
  {
   "cell_type": "markdown",
   "id": "368c16a4",
   "metadata": {},
   "source": [
    "The dataset was imported from the Seattle Police Department website. More information about the dataset can be seen here:<br>\n",
    "https://data.seattle.gov/Public-Safety/Terry-Stops/28ny-9ts8. <br>\n",
    "The original dataset is imported and named full_df, which will be the dataframe that will yield the final result."
   ]
  },
  {
   "cell_type": "code",
   "execution_count": null,
   "id": "d5906a91",
   "metadata": {},
   "outputs": [],
   "source": [
    "# Import public dataset\n",
    "full_df = pd.read_csv(\"Terry_Stops.csv\")"
   ]
  },
  {
   "cell_type": "markdown",
   "id": "4d3099b5",
   "metadata": {},
   "source": [
    "The following code removes any rows with null/invalid \"Subject Perceived Race\" values and any rows with null/invalid \"Precinct\" values. The specific values that are considered null/invalid can be seen below:\n",
    "\n",
    "Subject Perceived Race:\n",
    "- 'Unknown', 'DUPLICATE', '-', 'Null'\n",
    "\n",
    "Precinct:\n",
    "- 'Unknown', 'DUPLICATE', '-', 'Null', 'FK ERROR'\n"
   ]
  },
  {
   "cell_type": "code",
   "execution_count": null,
   "id": "59cd1005",
   "metadata": {},
   "outputs": [],
   "source": [
    "# Drop rows with non determinant or null race\n",
    "non_determinant_race = ['Unknown', 'DUPLICATE', '-','Null']\n",
    "full_df = full_df[~full_df['Subject Perceived Race'].isin(non_determinant_race)]\n",
    "full_df = full_df[full_df['Subject Perceived Race'].notnull()]\n",
    "print('Dropped rows with non determinant or null race information', full_df.shape)"
   ]
  },
  {
   "cell_type": "code",
   "execution_count": null,
   "id": "62c489ca",
   "metadata": {},
   "outputs": [],
   "source": [
    "# Drop rows with no precinct information\n",
    "non_determinant_precinct = ['Unknown', 'DUPLICATE', '-','Null','FK ERROR']\n",
    "full_df = full_df[~full_df['Precinct'].isin(non_determinant_precinct)]\n",
    "full_df = full_df[full_df['Precinct'].notnull()]\n",
    "print('Dropped rows with no precinct information', full_df.shape)"
   ]
  },
  {
   "cell_type": "markdown",
   "id": "0895a70f",
   "metadata": {},
   "source": [
    "The code below generates a weapons feature that matches with the following values: \n",
    "- 1 meaning that there was a weapon involved.\n",
    "- 0 meaning that there was no weapon involved.\n",
    "\n",
    "The code uses the \"Terry Stop ID\" column as a key to generate the weapons feature using the **weapon_conversion_key** and the function **process_weapon** based on the column \"weapon_type\". After the conversion, the column is merged with the original dataframe."
   ]
  },
  {
   "cell_type": "code",
   "execution_count": null,
   "id": "24dad223",
   "metadata": {},
   "outputs": [],
   "source": [
    "# Weapon feature engineering\n",
    "feature = 'Weapon Type'\n",
    "full_df['weapon_type'] = full_df['Weapon Type'].map(weapon_conversion_key)\n",
    "unique_keys = ['Terry Stop ID']\n",
    "weapons = full_df.groupby(unique_keys).agg(\n",
    "    weapons_list = (feature, list), \n",
    "    weapon_type=('weapon_type', max)\n",
    ").reset_index()\n",
    "weapons['weapons_list'] = weapons['weapons_list'].apply(lambda x: process_weapon(x))\n",
    "weapons['weapon_count'] = weapons['weapons_list'].apply(lambda x: len(x))\n",
    "weapons = weapons.drop('weapons_list', axis=1)\n",
    "full_df = full_df.drop([feature, 'weapon_type'], axis=1).merge(weapons, how='left', on=unique_keys)\n",
    "full_df = full_df.drop_duplicates()\n",
    "full_df.shape\n",
    "full_df.dtypes\n",
    "print('Feature: weapons', full_df.shape)"
   ]
  },
  {
   "cell_type": "markdown",
   "id": "95c0985c",
   "metadata": {},
   "source": [
    "Using the datetime package, \"Reported Date\" and \"Reported Time\" are combined and converted to a single column named \"observation_datetime_d\". This column is now type datetime64.\n",
    "Then, the following columns are generated based on the \"observation_datetime_d\" column:\n",
    "- \"observation_year_d\"\n",
    "- \"observation_month_d\"\n",
    "- \"observation_day_d\"\n",
    "- \"observation_week_d\"\n",
    "- \"observation_time_d\"\n",
    "- \"observation_week_of_month_d\""
   ]
  },
  {
   "cell_type": "code",
   "execution_count": null,
   "id": "1e2779bc",
   "metadata": {},
   "outputs": [],
   "source": [
    "# Convert date and time to pandas datetime object and pandas timedelta object\n",
    "full_df['observation_datetime_d'] = pd.to_datetime(full_df['Reported Date']) + pd.to_timedelta(full_df['Reported Time'])\n",
    "full_df = full_df.drop(\n",
    "    columns = ['Reported Time', 'Reported Date']\n",
    ")\n",
    "\n",
    "print('Bad data with null date:', full_df[full_df['observation_datetime_d'].isnull()].shape[0])\n",
    "full_df = full_df[(full_df['observation_datetime_d'].notnull())]\n",
    "full_df['observation_year_d'] = full_df['observation_datetime_d'].dt.year.astype(int)\n",
    "full_df['observation_month_d'] = full_df['observation_datetime_d'].dt.month.astype(int)\n",
    "full_df['observation_day_d'] = full_df['observation_datetime_d'].dt.day\n",
    "full_df['observation_week_d'] = full_df['observation_datetime_d'].dt.isocalendar().week\n",
    "full_df['observation_time_d'] = full_df['observation_datetime_d'].dt.time\n",
    "full_df['observation_week_of_month_d'] = full_df['observation_day_d'].apply(lambda x: x//7)\n",
    "full_df = full_df.drop_duplicates()\n",
    "print('Feature: abstracted time', full_df.shape)"
   ]
  },
  {
   "cell_type": "markdown",
   "id": "e41ae185",
   "metadata": {},
   "source": [
    "The subsequent code generates the features for precinct and watch. \n",
    "\n",
    "Column \"watch_d\" is generated using the **watch_from_squad_desc** function, where the input columns are \"Officer Squad\" and \"observation_datetime_d\". \n",
    "\n",
    "Column \"Precinct\" is generated by utilizing an if statement. \n",
    "- If the cell ends with ' PCT', remove it from the cell. \n",
    "- Capatalize every letter in each cell.\n",
    "\n",
    "Column \"Precinct_watch_d\" is generated by using an if statement:\n",
    "- If the cell of \"watch_d\" contains '1ST', '2ND', or '3RD', then combine \"Precinct\" and \"watch_d\"\n",
    "- If the cell of \"watch_d\" does not contain any of '1ST', '2ND', or '3RD', then only use \"watch_d\"\n"
   ]
  },
  {
   "cell_type": "code",
   "execution_count": null,
   "id": "71e4b966",
   "metadata": {},
   "outputs": [],
   "source": [
    "# Generating features for precinct and watch\n",
    "full_df['watch_d'] = full_df.apply(lambda x: watch_from_squad_desc(x['Officer Squad'], x['observation_datetime_d']), axis=1)\n",
    "full_df['Precinct'] = full_df['Precinct'].apply(lambda x: x[:-4].upper() if x.endswith(' PCT') else x.upper())\n",
    "full_df['Precinct_watch_d'] = full_df.apply(\n",
    "    lambda x: x['Precinct'] + '_' + x['watch_d'] if x['watch_d'] in ['1ST', '2ND', '3RD'] else x['watch_d'], \n",
    "    axis=1   \n",
    ")\n",
    "print('Generating features for precinct and watch', full_df.shape)"
   ]
  },
  {
   "cell_type": "markdown",
   "id": "93fdd80e",
   "metadata": {},
   "source": [
    "In the original dataset, cells where Subject ID = -1 represents when the Subject's ID was not verified in the dataset. Therefore, these values can be replaced by a null value."
   ]
  },
  {
   "cell_type": "code",
   "execution_count": null,
   "id": "0e9ce040",
   "metadata": {},
   "outputs": [],
   "source": [
    "# Replace instances where Subject ID = -1 with Null.\n",
    "full_df['Subject ID'] = pd.to_numeric(full_df['Subject ID'], errors = 'coerce')\n",
    "full_df['Subject ID'] = full_df['Subject ID'].replace(-1,np.nan)"
   ]
  },
  {
   "cell_type": "markdown",
   "id": "2b339d84",
   "metadata": {},
   "source": [
    "The dataframe used for the feature engineering process is named subjects_features_df. These are the columns used in the dataframe: \n",
    "- \"Terry Stop ID\"\n",
    "- \"Subject ID\"\n",
    "- \"observation_datetime_d\"\n",
    "- \"Precinct\"\n",
    "- \"Officer ID\"\n",
    "- \"weapon_type\" \n",
    "- \"Subject Perceived Race\" \n",
    "- \"Frisk Flag\"\n",
    "\n",
    "Duplicates of \"Terry Stop ID\" are dropped and the dataframe is sorted based on the column \"observation_datetime_d\". The features are all generated for five different lookback periods:\n",
    "- 3 months\n",
    "- 6 months\n",
    "- 1 year\n",
    "- 2 years\n",
    "- 3 years"
   ]
  },
  {
   "cell_type": "code",
   "execution_count": null,
   "id": "eadff0ca",
   "metadata": {},
   "outputs": [],
   "source": [
    "# Person features - pre-processing                  \n",
    "cols_for_subject_features = [\n",
    "    'Terry Stop ID','Subject ID', 'observation_datetime_d',\n",
    "    'Precinct', 'Officer ID', 'weapon_type', 'Subject Perceived Race', 'Frisk Flag'\n",
    "]\n",
    "full_df.drop_duplicates(subset = \"Terry Stop ID\",inplace = True)\n",
    "subject_feature_df = full_df[cols_for_subject_features]\n",
    "subject_feature_df = subject_feature_df.sort_values('observation_datetime_d')\n",
    "lookback_periods = ['3M', '6M', '1Y', '2Y', '3Y']"
   ]
  },
  {
   "cell_type": "markdown",
   "id": "a850a0ed",
   "metadata": {},
   "source": [
    "The following cells all generate features for a specific case. Depending on the case, a groupby key is chosen. Functions **generate_features** and **get_rolling_count** are used in order to determine the count of terry stops detected in the case. There are five different counts generated for each feature as there are five different lookback periods to input into the .rolling window. \n",
    "- Feature: Number of times person stopped.\n",
    "    - The column used for the groupby key is \"Subject ID\". <br>\n",
    "    \n",
    "- Feature: Number of times person stopped in precinct.\n",
    "    - The columns used for the groupby key are \"Precinct\" and \"Subject ID\". <br>\n",
    "    \n",
    "- Feature: Number of times particular race stopped in precinct, in terms of absolute count and percentage.\n",
    "    - The columns used for the groupby key are \"Precinct\" and \"Subject Perceived Race\". <br>\n",
    "    \n",
    "- Feature: Number of stops in precinct.\n",
    "    - The column used for the groupby key is \"Precinct\". <br>\n",
    "    \n",
    "- Feature: Percentage of race stopped in precinct.\n",
    "    - To generate this feature, features \"n_race_stopped_in_precinct\" and \"n_stops_in_precinct\" are divided to get the percentage.    <br>\n",
    "    \n",
    "- Feature: Number of times particular race stopped by officer.\n",
    "    - The columns used for the groupby key are \"Officer ID\" and \"Subject Perceived Race\". <br>\n",
    "    \n",
    "- Feature: Number of stops by officer.\n",
    "    - The column used for the groupby key is \"Officer ID\". <br>\n",
    "    \n",
    "- Feature: % race stopped by officer.\n",
    "    - To generate this feature, features \"n_race_stopped_by_officer\" and \"n_stops_by_officer\" are divided to get the percentage.<br>\n",
    "    \n",
    "- Feature: Number of times person stopped by particular officer.\n",
    "    - The columns used for the groupby key are \"Officer ID\" and \"Subject ID\". <br>\n",
    "    \n",
    "- Feature: Number of times person stopped by particular officer and frisked.\n",
    "    - The columns used for the groupby key are \"Officer ID\", \"Frisk Flag\", and \"Subject ID\". <br>\n",
    "    "
   ]
  },
  {
   "cell_type": "code",
   "execution_count": null,
   "id": "ebe49c40",
   "metadata": {},
   "outputs": [],
   "source": [
    "# Person features - # times person stopped\n",
    "groupby_key = ['Subject ID']\n",
    "feature_name = 'n_subject_stopped'\n",
    "for period in lookback_periods:    \n",
    "    subject_feature_df = generate_features(subject_feature_df, groupby_key, feature_name, period)\n",
    "    print(f'Feature: {feature_name}_{period}')"
   ]
  },
  {
   "cell_type": "code",
   "execution_count": null,
   "id": "e46adf3e",
   "metadata": {},
   "outputs": [],
   "source": [
    "# Person features - # times person stopped in precinct\n",
    "groupby_key=['Precinct', 'Subject ID']\n",
    "feature_name = 'n_subject_stopped_in_precinct'\n",
    "for period in lookback_periods:\n",
    "    subject_feature_df = generate_features(subject_feature_df, groupby_key, feature_name, period)\n",
    "    print(f'Feature: {feature_name}_{period}')"
   ]
  },
  {
   "cell_type": "code",
   "execution_count": null,
   "id": "65be51bb",
   "metadata": {},
   "outputs": [],
   "source": [
    "# Person features - # times particular race stopped in precinct (absolute count and in % terms)\n",
    "groupby_key=['Precinct', 'Subject Perceived Race']\n",
    "feature_name = 'n_race_stopped_in_precinct'\n",
    "for period in lookback_periods:\n",
    "    subject_feature_df = generate_features(subject_feature_df, groupby_key, feature_name, period)\n",
    "    print(f'Feature: {feature_name}_{period}')"
   ]
  },
  {
   "cell_type": "code",
   "execution_count": null,
   "id": "ae808446",
   "metadata": {},
   "outputs": [],
   "source": [
    "# Person features - # stops in precinct\n",
    "groupby_key=['Precinct']\n",
    "feature_name = 'n_stops_in_precinct'\n",
    "for period in lookback_periods:\n",
    "    subject_feature_df = generate_features(subject_feature_df, groupby_key, feature_name, period)\n",
    "    print(f'Feature: {feature_name}_{period}')"
   ]
  },
  {
   "cell_type": "code",
   "execution_count": null,
   "id": "49dce2bf",
   "metadata": {},
   "outputs": [],
   "source": [
    "# Person features - % race stopped in precinct\n",
    "feature_name='percent_race_stopped_in_precinct'\n",
    "for period in lookback_periods:\n",
    "    subject_feature_df[f'{feature_name}_{period}'] = \\\n",
    "        subject_feature_df[f'n_race_stopped_in_precinct_{period}']/subject_feature_df[f'n_stops_in_precinct_{period}']\n",
    "    print(f'Feature: {feature_name}_{period}')"
   ]
  },
  {
   "cell_type": "code",
   "execution_count": null,
   "id": "234c9283",
   "metadata": {},
   "outputs": [],
   "source": [
    "# Person features - # times particular race stopped by officer\n",
    "groupby_key=['Officer ID', 'Subject Perceived Race']\n",
    "feature_name='n_race_stopped_by_officer'\n",
    "for period in lookback_periods:\n",
    "    subject_feature_df = generate_features(subject_feature_df, groupby_key, feature_name, period)\n",
    "    print(f'Feature: {feature_name}_{period}')"
   ]
  },
  {
   "cell_type": "code",
   "execution_count": null,
   "id": "67ebc48d",
   "metadata": {},
   "outputs": [],
   "source": [
    "# Person features - # stops by officer\n",
    "groupby_key=['Officer ID']\n",
    "feature_name = 'n_stops_by_officer'\n",
    "for period in lookback_periods:\n",
    "    subject_feature_df = generate_features(subject_feature_df, groupby_key, feature_name, period)\n",
    "    print(f'Feature: {feature_name}_{period}')"
   ]
  },
  {
   "cell_type": "code",
   "execution_count": null,
   "id": "96ea0ff6",
   "metadata": {},
   "outputs": [],
   "source": [
    "# Person features - % race stopped by officer\n",
    "feature_name='percent_race_stopped_by_officer'\n",
    "for period in lookback_periods:\n",
    "    subject_feature_df[f'{feature_name}_{period}'] = \\\n",
    "        subject_feature_df[f'n_race_stopped_by_officer_{period}']/subject_feature_df[f'n_stops_by_officer_{period}']\n",
    "    print(f'Feature: {feature_name}_{period}')"
   ]
  },
  {
   "cell_type": "code",
   "execution_count": null,
   "id": "b2e379b1",
   "metadata": {},
   "outputs": [],
   "source": [
    "# Person features - # times person stopped by particular officer\n",
    "groupby_key=['Officer ID', 'Subject ID']\n",
    "feature_name='n_subject_stopped_by_officer'\n",
    "for period in lookback_periods:\n",
    "    subject_feature_df = generate_features(subject_feature_df, groupby_key, feature_name, period)\n",
    "    print(f'Feature: {feature_name}_{period}')"
   ]
  },
  {
   "cell_type": "code",
   "execution_count": null,
   "id": "371b0f33",
   "metadata": {},
   "outputs": [],
   "source": [
    "# Person features - # times person stopped by particular officer & frisked\n",
    "groupby_key=['Officer ID', 'Frisk Flag', 'Subject ID']\n",
    "feature_name='n_subject_stopped_officer_frisk'\n",
    "for period in lookback_periods:\n",
    "    subject_feature_df = generate_features(subject_feature_df, groupby_key, feature_name, period)\n",
    "    print(f'Feature: {feature_name}_{period}')"
   ]
  },
  {
   "cell_type": "markdown",
   "id": "9f69f7f4",
   "metadata": {},
   "source": [
    "The first ten features for each lookback period have been generated. The code below merges the first ten features with full_df."
   ]
  },
  {
   "cell_type": "code",
   "execution_count": null,
   "id": "fb5da2ee",
   "metadata": {},
   "outputs": [],
   "source": [
    "# merge dfs\n",
    "full_df = full_df.merge(subject_feature_df, on=cols_for_subject_features, how='left')"
   ]
  },
  {
   "cell_type": "markdown",
   "id": "106caae3",
   "metadata": {},
   "source": [
    "For the last two features, some extra steps were required. Another dataframe, named \\_subject_feature_df, is created. This dataframes only contains rows instances where \"weapon_type\" = 1. The following features use this new data frame:\n",
    "- Feature: Number of times person stopped in precinct with weapon involved.\n",
    "    - The columns used for the groupby key are \"Precinct\" and \"Subject ID\".\n",
    "- Feature: Number of times person stopped by officer with weapon involved.\n",
    "    - The columns used for the groupby key are \"Officer ID\" and \"Subject ID\"."
   ]
  },
  {
   "cell_type": "markdown",
   "id": "72ff1c61",
   "metadata": {},
   "source": [
    "After the remaining two features have been generated for each lookback period, the features are merged onto full_df. "
   ]
  },
  {
   "cell_type": "code",
   "execution_count": null,
   "id": "0e80c7b3",
   "metadata": {},
   "outputs": [],
   "source": [
    "# Person features - # times person stopped in precinct with weapon involved\n",
    "_subject_feature_df = subject_feature_df[subject_feature_df['weapon_type']==1]\n",
    "groupby_key=['Precinct', 'Subject ID']\n",
    "feature_name='n_subject_stopped_precinct_weapon'\n",
    "feature_set = []\n",
    "for period in lookback_periods:\n",
    "    _subject_feature_df = generate_features(_subject_feature_df, groupby_key, feature_name, period)\n",
    "    feature_set.append(f'{feature_name}_{period}')\n",
    "    print(f'Feature: {feature_name}_{period}')"
   ]
  },
  {
   "cell_type": "code",
   "execution_count": null,
   "id": "9c23296e",
   "metadata": {},
   "outputs": [],
   "source": [
    "# Person features - # times person stopped by officer with weapon involved\n",
    "groupby_key=['Officer ID', 'Subject ID']\n",
    "feature_name='n_subject_stopped_by_officer_weapon'\n",
    "for period in lookback_periods:\n",
    "    _subject_feature_df = generate_features(_subject_feature_df, groupby_key, feature_name, period)\n",
    "    feature_set.append(f'{feature_name}_{period}')\n",
    "    print(f'Feature: {feature_name}_{period}')\n",
    "full_df = full_df.merge(\n",
    "    _subject_feature_df[['Terry Stop ID','Subject ID'] + feature_set], \n",
    "    on=['Terry Stop ID','Subject ID'], \n",
    "    how='left'\n",
    ")"
   ]
  },
  {
   "cell_type": "markdown",
   "id": "5864bb0a",
   "metadata": {},
   "source": [
    "The following code changes rows where Subject ID is not null such that if the features in that row are null, they are replaced with the value 0. Once that is done, full_df is exported to 'model_features.csv'."
   ]
  },
  {
   "cell_type": "code",
   "execution_count": null,
   "id": "816a0852",
   "metadata": {
    "scrolled": false
   },
   "outputs": [],
   "source": [
    "# in rows where Subject ID is not null, if the features in that row are null, replace them with 0\n",
    "temp = full_df['Subject ID'].notnull()\n",
    "full_df.loc[temp] = full_df.loc[temp].fillna(0)"
   ]
  },
  {
   "cell_type": "code",
   "execution_count": null,
   "id": "76bfd030",
   "metadata": {},
   "outputs": [],
   "source": [
    "# Export CSV of final result\n",
    "full_df.to_csv('model_features.csv') \n",
    "print(f'Job done!')    "
   ]
  },
  {
   "cell_type": "markdown",
   "id": "50518bcc",
   "metadata": {},
   "source": [
    "The original dataset found in the Seattle Police Department website can be seen below."
   ]
  },
  {
   "cell_type": "code",
   "execution_count": null,
   "id": "06505a36",
   "metadata": {
    "scrolled": false
   },
   "outputs": [],
   "source": [
    "originalDataset = pd.read_csv(\"Terry_Stops.csv\")\n",
    "originalDataset"
   ]
  },
  {
   "cell_type": "markdown",
   "id": "c0d7351c",
   "metadata": {},
   "source": [
    "The final dataset, including all of the features, is shown here."
   ]
  },
  {
   "cell_type": "code",
   "execution_count": null,
   "id": "2bd071b3",
   "metadata": {
    "scrolled": false
   },
   "outputs": [],
   "source": [
    "finalDataset = full_df\n",
    "finalDataset"
   ]
  }
 ],
 "metadata": {
  "kernelspec": {
   "display_name": "Python 3 (ipykernel)",
   "language": "python",
   "name": "python3"
  },
  "language_info": {
   "codemirror_mode": {
    "name": "ipython",
    "version": 3
   },
   "file_extension": ".py",
   "mimetype": "text/x-python",
   "name": "python",
   "nbconvert_exporter": "python",
   "pygments_lexer": "ipython3",
   "version": "3.11.5"
  }
 },
 "nbformat": 4,
 "nbformat_minor": 5
}
