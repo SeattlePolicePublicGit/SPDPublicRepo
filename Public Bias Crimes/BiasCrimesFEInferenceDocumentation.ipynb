{
 "cells": [
  {
   "cell_type": "markdown",
   "id": "c057e013",
   "metadata": {},
   "source": [
    "# Bias Events - Feature Engineering for Inference"
   ]
  },
  {
   "cell_type": "markdown",
   "id": "0573631e",
   "metadata": {},
   "source": [
    "## Source Data and Objects"
   ]
  },
  {
   "cell_type": "markdown",
   "id": "69b4167c",
   "metadata": {},
   "source": [
    "- incident_offense.csv\n",
    "- final_reports.csv\n",
    "- narratives.csv\n",
    "- countvectorizer.pkl (trained vectorizer from training_feature_engineering)"
   ]
  },
  {
   "cell_type": "markdown",
   "id": "14c2b8a0",
   "metadata": {},
   "source": [
    "## Engineered Features"
   ]
  },
  {
   "cell_type": "markdown",
   "id": "e683833c",
   "metadata": {},
   "source": [
    "141 resulting features including:\n",
    "\n",
    "- 'victim_age_1','subject_age_1','East', 'North', 'precinct_OOJ', 'South', 'Southwest', 'West', 'precinct_Unknown',\n",
    " 'Female','Gender Diverse (gender non-conforming and/or transgender)', 'Male', 'Vic_Gender_Unknown',\n",
    " 'American Indian or Alaska Native', 'Asian', 'Black or African American', 'Native Hawaiian or Other Pacific Islander',\n",
    " 'Vic_Race_Unknown', 'White', 'Hispanic Or Latino', 'Not Hispanic Or Latino', 'Vic_Ethni_Unknown',\n",
    " 'subject_American Indian or Alaska Native', 'subject_Asian', 'subject_Black or African American',\n",
    " 'subject_Native Hawaiian or Other Pacific Islander', 'subject_Sub_Race_Unknown', 'subject_White',\n",
    " 'subject_Female', 'subject_Gender Diverse (gender non-conforming and/or transgender)',\n",
    " 'subject_Male', 'subject_Sub_Gender_Unknown', 'subject_Hispanic Or Latino', 'subject_Not Hispanic Or Latino',\n",
    " 'subject_Sub_Ethni_Unknown', 'B1', 'B2', 'B3', 'C1', 'C2', 'C3', 'D1', 'D2', 'D3', 'E1', 'E2', 'E3', 'F1', 'F2',\n",
    " 'F3', 'G1', 'G2', 'G3', 'H1', 'H2', 'H3', 'J1', 'J2', 'J3', 'K1', 'K2', 'K3', 'L1', 'L2', 'L3', 'M1', 'M2', 'M3',\n",
    " 'N1', 'N2', 'N3', 'O1', 'O2', 'O3', 'Q1', 'Q2', 'Q3', 'R1', 'R2', 'R3', 'S1', 'S2', 'S3', 'U1', 'U2', 'U3',\n",
    " 'beat_Unknown', 'W1', 'W2', 'W3', 'beat_OOJ'\n",
    " <br>\n",
    " \n",
    "- 50 text features"
   ]
  },
  {
   "cell_type": "markdown",
   "id": "d19c5283",
   "metadata": {},
   "source": [
    "## Main Dataset Description"
   ]
  },
  {
   "cell_type": "markdown",
   "id": "ee490463",
   "metadata": {},
   "source": [
    "The 'incident_offense.csv' file is a dummy dataset of SPD's incident_offense dataset, which contains a row per every unique offense in SPD's historical data. The offense_id column is a unique identifier for every offense. The original dataset has 3.9 million rows (offenses) and is updated daily, which increases the size of the dataset.\n",
    "\n",
    "The dummy dataset was created with randomly generated unique identifiers. To minimize processing time, it only includes 39 rows. The dataset additionally includes columns for:\n",
    "\n",
    "- __Report ID__: unique identifier of report where the offense was recorded.\n",
    "- __Reporting event number__: unique identifier of event associated to the offense.\n",
    "- __Suspect (subject) demographics__: A column is included for age, ethnicity, gender, and race\n",
    "- __Victim demographics__: A column is included for age, ethnicity, gender, and race.\n",
    "- __Event start date__: the date and time of occurrence.\n",
    "- __Approval status__: the status of report approval, which can include 'Draft,' 'Rejected,' 'Pending Supervisor Review,' 'UCR Approved,' and 'Completed.' We only use approved/completed reports for training as other status indicates that reports might be modified/corrected.\n",
    "- __Report submitted date__: The date on which report was modified/completed. We use this column to obtain the date after which new reports are read every 24 hours.\n",
    "- __Report UCR Approved By__: The ID of the person that last approved the report. We use this column to filter out reports that have already been modified by the Bias Crime Unit.\n",
    "- __Precinct__: precinct where event occurred.\n",
    "- __Beat__: beat where event occurred. Beats are geographic divisions to which patrol officers are assigned. \n",
    "- __Crime Description__: The description of the first offense code in the report.\n"
   ]
  },
  {
   "cell_type": "markdown",
   "id": "3a6234ec",
   "metadata": {},
   "source": [
    "## Data Output"
   ]
  },
  {
   "attachments": {},
   "cell_type": "markdown",
   "id": "46942944",
   "metadata": {},
   "source": [
    "Since there is a separate process for feature engineering for training occurring every month that updates the dataset with all reports ever submitted, the output table from this notebook is regenerated and rewritten on a daily basis."
   ]
  }
 ],
 "metadata": {
  "kernelspec": {
   "display_name": "conda_python3",
   "language": "python",
   "name": "conda_python3"
  },
  "language_info": {
   "codemirror_mode": {
    "name": "ipython",
    "version": 3
   },
   "file_extension": ".py",
   "mimetype": "text/x-python",
   "name": "python",
   "nbconvert_exporter": "python",
   "pygments_lexer": "ipython3",
   "version": "3.10.14"
  }
 },
 "nbformat": 4,
 "nbformat_minor": 5
}
