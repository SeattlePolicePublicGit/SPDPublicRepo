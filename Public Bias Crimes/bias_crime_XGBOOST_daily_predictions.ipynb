{
 "cells": [
  {
   "cell_type": "markdown",
   "id": "596f01ca",
   "metadata": {},
   "source": [
    "\n"
   ]
  },
  {
   "cell_type": "markdown",
   "id": "20186c00",
   "metadata": {},
   "source": [
    "The following packages/modules are used:\n",
    "- pandas\n",
    "- XGBoost\n",
    "- joblib\n",
    "- numpy\n",
    "\n",
    "We also use functions from the NLP_Preprocessing file."
   ]
  },
  {
   "cell_type": "code",
   "execution_count": 17,
   "id": "93bb7efe",
   "metadata": {},
   "outputs": [],
   "source": [
    "import pandas as pd\n",
    "import numpy as np\n",
    "import xgboost as xgb\n",
    "from xgboost import XGBClassifier\n",
    "import joblib"
   ]
  },
  {
   "cell_type": "markdown",
   "id": "45f6270e",
   "metadata": {},
   "source": [
    "## 1. Load Features\n",
    "\n",
    "Load output features from inference feature engineering."
   ]
  },
  {
   "cell_type": "code",
   "execution_count": 18,
   "id": "4a21ad0a",
   "metadata": {},
   "outputs": [],
   "source": [
    "features = pd.read_csv('inference_features.csv', header=None)"
   ]
  },
  {
   "cell_type": "code",
   "execution_count": 19,
   "id": "63dc0932",
   "metadata": {},
   "outputs": [],
   "source": [
    "#read words to assign to column headers\n",
    "cv = joblib.load('countvectorizer.pkl')\n",
    "words = cv.get_feature_names_out()"
   ]
  },
  {
   "cell_type": "code",
   "execution_count": 20,
   "id": "f7918406",
   "metadata": {},
   "outputs": [],
   "source": [
    "names = ['victim_age_1','subject_age_1','East', 'North', 'precinct_OOJ', 'South', 'Southwest', 'West', 'precinct_Unknown',\n",
    " 'Female','Gender Diverse (gender non-conforming and/or transgender)', 'Male', 'Vic_Gender_Unknown',\n",
    " 'American Indian or Alaska Native', 'Asian', 'Black or African American', 'Native Hawaiian or Other Pacific Islander',\n",
    " 'Vic_Race_Unknown', 'White', 'Hispanic Or Latino', 'Not Hispanic Or Latino', 'Vic_Ethni_Unknown',\n",
    " 'subject_American Indian or Alaska Native', 'subject_Asian', 'subject_Black or African American',\n",
    " 'subject_Native Hawaiian or Other Pacific Islander', 'subject_Sub_Race_Unknown', 'subject_White',\n",
    " 'subject_Female', 'subject_Gender Diverse (gender non-conforming and/or transgender)',\n",
    " 'subject_Male', 'subject_Sub_Gender_Unknown', 'subject_Hispanic Or Latino', 'subject_Not Hispanic Or Latino',\n",
    " 'subject_Sub_Ethni_Unknown', 'B1', 'B2', 'B3', 'C1', 'C2', 'C3', 'D1', 'D2', 'D3', 'E1', 'E2', 'E3', 'F1', 'F2',\n",
    " 'F3', 'G1', 'G2', 'G3', 'H1', 'H2', 'H3', 'J1', 'J2', 'J3', 'K1', 'K2', 'K3', 'L1', 'L2', 'L3', 'M1', 'M2', 'M3',\n",
    " 'N1', 'N2', 'N3', 'O1', 'O2', 'O3', 'Q1', 'Q2', 'Q3', 'R1', 'R2', 'R3', 'S1', 'S2', 'S3', 'U1', 'U2', 'U3',\n",
    " 'beat_Unknown', 'W1', 'W2', 'W3', 'beat_OOJ']\n",
    "\n",
    "col_names = np.concatenate((words, names))\n",
    "\n",
    "features = features.rename(columns=dict(zip(features.columns, col_names), inplace=True))"
   ]
  },
  {
   "cell_type": "markdown",
   "id": "2445df82",
   "metadata": {},
   "source": [
    "### Read Trained Model and Generate Predictions"
   ]
  },
  {
   "cell_type": "code",
   "execution_count": 21,
   "id": "b8d34b0a",
   "metadata": {},
   "outputs": [],
   "source": [
    "bst = xgb.Booster()\n",
    "bst.load_model('xgboost_model')"
   ]
  },
  {
   "cell_type": "code",
   "execution_count": 22,
   "id": "bc6a08df",
   "metadata": {},
   "outputs": [],
   "source": [
    "# make predictions\n",
    "dfeat = xgb.DMatrix(features)\n",
    "preds = bst.predict(dfeat)\n",
    "features[\"prediction\"] = preds"
   ]
  },
  {
   "cell_type": "code",
   "execution_count": 23,
   "id": "8cae686f",
   "metadata": {},
   "outputs": [],
   "source": [
    "# read optimal classification threshold\n",
    "ot = pd.read_csv('optimal_threshold.csv', header=None)"
   ]
  },
  {
   "cell_type": "code",
   "execution_count": 24,
   "id": "37f03191",
   "metadata": {},
   "outputs": [],
   "source": [
    "preds_optimal = [1 if i >= ot.iloc[0][0] else 0 for i in preds]\n",
    "features['pred_optimal'] = preds_optimal"
   ]
  },
  {
   "cell_type": "code",
   "execution_count": 25,
   "id": "938e1b46",
   "metadata": {},
   "outputs": [],
   "source": [
    "#read reporting_event_numbers and report_ids to identify reports with positive predictions\n",
    "ids = pd.read_csv('inference_reports.csv')"
   ]
  },
  {
   "cell_type": "markdown",
   "id": "e61c82af",
   "metadata": {},
   "source": [
    "### Save Reports with Positive Predictions "
   ]
  },
  {
   "cell_type": "code",
   "execution_count": 34,
   "id": "a502b979",
   "metadata": {},
   "outputs": [],
   "source": [
    "pos_preds = features[features['pred_optimal'] == 1]"
   ]
  },
  {
   "cell_type": "code",
   "execution_count": 35,
   "id": "86c0cc2d",
   "metadata": {},
   "outputs": [],
   "source": [
    "#save reports with positive predictions to provide to bias crime unit \n",
    "pos_preds = pos_preds.join(ids, how='left')\n",
    "pos_preds[['report_id', 'reporting_event_number']].to_csv('pos_preds.csv', index=False)"
   ]
  }
 ],
 "metadata": {
  "kernelspec": {
   "display_name": "conda_python3",
   "language": "python",
   "name": "conda_python3"
  },
  "language_info": {
   "codemirror_mode": {
    "name": "ipython",
    "version": 3
   },
   "file_extension": ".py",
   "mimetype": "text/x-python",
   "name": "python",
   "nbconvert_exporter": "python",
   "pygments_lexer": "ipython3",
   "version": "3.10.14"
  }
 },
 "nbformat": 4,
 "nbformat_minor": 5
}
