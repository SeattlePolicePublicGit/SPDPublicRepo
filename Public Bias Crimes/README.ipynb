{
 "cells": [
  {
   "cell_type": "markdown",
   "id": "4f80484b",
   "metadata": {},
   "source": [
    "# Bias Crimes / Bias Events NLP (Natural Language Processing) Classification Tool"
   ]
  },
  {
   "cell_type": "markdown",
   "id": "e8507366",
   "metadata": {},
   "source": [
    "## Description"
   ]
  },
  {
   "cell_type": "markdown",
   "id": "e1c012b1",
   "metadata": {},
   "source": [
    "The Bias Events Natural Language Processing (NLP) binary classifier is a machine learning algorithm that uses narratives and demographics from incident and offense (I/O) reports to determine whether a report contains bias elements or not. The goal of the tool is to improve the accuracy of hate crime data and the speed at which incidents with bias elements are identified. "
   ]
  },
  {
   "cell_type": "markdown",
   "id": "782de643",
   "metadata": {},
   "source": [
    "### *SPD Data Tracking*"
   ]
  },
  {
   "cell_type": "markdown",
   "id": "b3088982",
   "metadata": {},
   "source": [
    "SPD’s policy 15.120 outlines the documentation process of bias crimes and incidents in an offense report (Seattle Police Department, 2024). Patrol officers and a sergeant are dispatched to the scene, where the officers investigate the incident and write a report, identifying the appropriate type of bias event, which is reviewed by the patrol sergeant. The policy defines three different types of bias events:\n",
    "\n",
    "- __Hate crime offense and malicious harassment__: Crimes in which the motivation for the suspect targeting a particular person was based on their belief about the victims' race, color, religion, national origin, sexual orientation, mental, physical, or sensory handicap, homelessness, marital status, age, parental status, gender, or political ideology.\n",
    "- __Crimes with bias elements__: An event in which a crime is committed that is not bias-based and during the incident the suspect uses derogatory language directed at the victim's protected status or group.\n",
    "- __Bias incident__: Offensive derogatory comments directed at a person's sexual orientation, race, or other protected status which cause fear and/or concern in the targeted community during a non-criminal incident.\n",
    " \n",
    "Currently, officers use offense fields and other reporting fields in the Mark43 record management system (RMS) to indicate if an event contains bias elements. As such, reports in the training data are assigned a positive label (1) based on these fields.\n"
   ]
  },
  {
   "cell_type": "markdown",
   "id": "d9e1c818",
   "metadata": {},
   "source": [
    "### *SPD Pipeline Architecture*"
   ]
  },
  {
   "cell_type": "markdown",
   "id": "3c401f80",
   "metadata": {},
   "source": [
    "We productionize the bias crime classification pipeline using AWS services for computational processing efficiency. However, to allow for replication and demonstration, we adjust the code in this repository to use free python modules/packages.\n",
    "\n",
    "Briefly, every 24 hours, newly submitted I/O reports are passed through:\n",
    "\n",
    "1. The ‘feature_engineering_inference’ job, where demographic and text features are extracted. The specific process is described in ‘feature_engineering_inference_documentation.’\n",
    "2. The ‘daily_predictions’ job, where predicted labels are generated for each report using the trained classification model.\n",
    "3. Although not provided in this repository, a call is made to a Mark43 API to create a task for every report associated to a positive prediction. We discuss a more manual alternative in the feature_engineering_training_documentation.\n",
    "\n",
    "Every month:\n",
    "\n",
    "1. The bias crimes data source is passed through the ‘feature_engineering_for_training’ job. The specific process is described in ‘feature_engineering_training_documentation.’\n",
    "2. The classification model is retrained with the extended dataset in the ‘XGBOOST_training’ job. The specific process is described in ‘model_training_documentation.’\n",
    "\n",
    "Note that we have two separate jobs for feature engineering, one for training and one for inference. The feature engineering for training uses a data source that is specifically built for training the classification model. This data source is created through a similar transformation/pivoting of offenses as the one performed in the feature engineering process for inference. We create separate processes given the data processing load size required to generate the training dataset, which is generated only once a month through an AWS Glue job."
   ]
  },
  {
   "cell_type": "markdown",
   "id": "779c441b",
   "metadata": {},
   "source": [
    "## Getting Started"
   ]
  },
  {
   "cell_type": "markdown",
   "id": "89dfaf1d",
   "metadata": {},
   "source": [
    "### *Dependencies*\n",
    "\n",
    "- Jupyter Notebooks/Python IDLE"
   ]
  },
  {
   "cell_type": "markdown",
   "id": "217a7241",
   "metadata": {},
   "source": [
    "### *Required Files*\n",
    "\n",
    "The following .csv files are provided:\n",
    "\n",
    "- dummy_narrative_github.csv\n",
    "- incident_offense.csv\n",
    "- narratives.csv\n",
    "- train_report_ids.csv\n",
    "- test_report_ids.csv\n",
    "- completed_tasks.csv\n",
    "- offenses.csv\n",
    "- final_reports.csv"
   ]
  },
  {
   "cell_type": "markdown",
   "id": "70e1a4fd",
   "metadata": {},
   "source": [
    "### *Code Execution*\n",
    "\n",
    "The bias crime identification tool is broken down into four Python notebooks: bias_crime_feature_engineering_for_training_github, bias_crime_feature_engineering_for_inference_github, bias_crime_XGBOOST_training_github, and bias_crime_XGBOOST_daily_predictions_github. Detailed descriptions are included in training_XGBoost_documentation, feature_engineering_training_documentation, and feature_engineering_inference_documentation. \n",
    "\n",
    "The NLP_Preprocessing.py file defines NLP preprocessing functions used for feature engineering."
   ]
  }
 ],
 "metadata": {
  "kernelspec": {
   "display_name": "conda_python3",
   "language": "python",
   "name": "conda_python3"
  },
  "language_info": {
   "codemirror_mode": {
    "name": "ipython",
    "version": 3
   },
   "file_extension": ".py",
   "mimetype": "text/x-python",
   "name": "python",
   "nbconvert_exporter": "python",
   "pygments_lexer": "ipython3",
   "version": "3.10.14"
  }
 },
 "nbformat": 4,
 "nbformat_minor": 5
}
